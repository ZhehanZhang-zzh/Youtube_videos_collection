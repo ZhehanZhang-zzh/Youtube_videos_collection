{
 "cells": [
  {
   "cell_type": "markdown",
   "id": "a9980593-56f2-453f-82d1-85d6a564ee07",
   "metadata": {},
   "source": [
    "## Using YouTube API"
   ]
  },
  {
   "cell_type": "code",
   "execution_count": 1,
   "id": "f1afd199-f387-4a69-b576-48eaac146da1",
   "metadata": {},
   "outputs": [],
   "source": [
    "from googleapiclient.discovery import build"
   ]
  },
  {
   "cell_type": "code",
   "execution_count": 2,
   "id": "b6821c80-537f-437c-b780-667be0c2c1f3",
   "metadata": {},
   "outputs": [],
   "source": [
    "api_key = '' #Your own Key\n",
    "api_service_name = \"youtube\"\n",
    "api_version = \"v3\"\n",
    "\n",
    "# Get credentials and create an API client\n",
    "youtube = build(\n",
    "    api_service_name, api_version, developerKey = api_key)"
   ]
  },
  {
   "cell_type": "code",
   "execution_count": 3,
   "id": "b108b626-fec3-4846-9ff6-34632a4b8e05",
   "metadata": {},
   "outputs": [],
   "source": [
    "request = youtube.search().list(\n",
    "        part=\"snippet\",\n",
    "        regionCode=\"US\",\n",
    "        relevanceLanguage=\"en\",\n",
    "        type=\"video\",\n",
    "        videoCategoryId=\"20\",   # your category\n",
    "        publishedAfter = \"2023-01-26T00:00:00Z\",   #change the time period\n",
    "        publishedBefore = \"2023-01-31T00:00:00Z\",\n",
    "        maxResults = 50\n",
    "    )\n",
    "response = request.execute()\n",
    "\n",
    "next_page_token = response.get('nextPageToken')\n",
    "\n",
    "videos = {}\n",
    "more_pages = True\n",
    "while more_pages:\n",
    "    if next_page_token is None:\n",
    "        more_pages = False\n",
    "    else:\n",
    "        request = youtube.search().list(\n",
    "            part=\"snippet\",\n",
    "            regionCode=\"US\",\n",
    "            relevanceLanguage=\"en\",\n",
    "            type=\"video\",\n",
    "            videoCategoryId=\"20\",\n",
    "            publishedAfter = \"2023-01-26T00:00:00Z\",     #change the time period\n",
    "            publishedBefore = \"2023-01-31T00:00:00Z\",\n",
    "            maxResults = 50,\n",
    "            pageToken = next_page_token\n",
    "            )\n",
    "        response = request.execute()\n",
    "        \n",
    "        i = len(videos.keys())\n",
    "        for search_result in response.get('items'):\n",
    "            search_response = youtube.videos().list(\n",
    "                id=search_result['id']['videoId'],\n",
    "                part='statistics,contentDetails,liveStreamingDetails,localizations,snippet,player,recordingDetails,snippet,status,topicDetails'   \n",
    "            ).execute()\n",
    "\n",
    "            videos[i] = search_response.get('items',[])[0]\n",
    "            i = i + 1\n",
    "        \n",
    "        next_page_token = response.get('nextPageToken')\n"
   ]
  },
  {
   "cell_type": "code",
   "execution_count": 4,
   "id": "caf4630e-8e09-4c14-b9b0-6e6c6aab1565",
   "metadata": {},
   "outputs": [
    {
     "name": "stdout",
     "output_type": "stream",
     "text": [
      "videos length: 524\n"
     ]
    }
   ],
   "source": [
    "print (\"videos length: \" + str(len(videos)))"
   ]
  },
  {
   "cell_type": "markdown",
   "id": "cac8afb5-57a4-4045-b781-6981f8e1c6b1",
   "metadata": {},
   "source": [
    "## Store the videos in json file"
   ]
  },
  {
   "cell_type": "code",
   "execution_count": 12,
   "id": "f3c661c0-119a-42b3-810c-5c7529c2c15b",
   "metadata": {},
   "outputs": [],
   "source": [
    "file_name_videos = 'gaming_videos0.json'  # feel free to change the file name "
   ]
  },
  {
   "cell_type": "code",
   "execution_count": 13,
   "id": "3fcf365f-df06-4182-8dc2-c3fab261c974",
   "metadata": {},
   "outputs": [],
   "source": [
    "res = videos"
   ]
  },
  {
   "cell_type": "code",
   "execution_count": 14,
   "id": "647040d3-48e7-4a1a-9bf5-590dc985aa3c",
   "metadata": {},
   "outputs": [
    {
     "name": "stdout",
     "output_type": "stream",
     "text": [
      "file dumped\n"
     ]
    }
   ],
   "source": [
    "import os\n",
    "import json\n",
    "    \n",
    "# check if size of file is 0\n",
    "with open(file_name_videos, 'w') as f:\n",
    "   json_object = json.dumps(res, indent = 4)\n",
    "   z = json.loads(json_object)\n",
    "   json.dump(z, f, indent = 4)\n",
    "\n",
    "\n",
    "print('file dumped')"
   ]
  },
  {
   "cell_type": "markdown",
   "id": "f1145aac-a650-4a2d-8c88-93c1edc3a100",
   "metadata": {},
   "source": [
    "## Convert jison file to csv "
   ]
  },
  {
   "cell_type": "code",
   "execution_count": 15,
   "id": "fb87ffff-626b-4bd0-a545-dd2d998e253f",
   "metadata": {},
   "outputs": [],
   "source": [
    "import pandas as pd"
   ]
  },
  {
   "cell_type": "code",
   "execution_count": 16,
   "id": "3b2f4c9c-8b43-4a7b-a8b8-66ce8c63c7d7",
   "metadata": {},
   "outputs": [],
   "source": [
    "df = pd.json_normalize(videos.values())"
   ]
  },
  {
   "cell_type": "code",
   "execution_count": 17,
   "id": "8e294f99-4fe1-461b-b884-6cc59a33e678",
   "metadata": {},
   "outputs": [],
   "source": [
    "df.to_csv(\"game_videos0.csv\", index = False)"
   ]
  },
  {
   "cell_type": "code",
   "execution_count": null,
   "id": "ffdb9b72-1e01-4cdc-bbef-0085d8bdcbcc",
   "metadata": {},
   "outputs": [],
   "source": []
  },
  {
   "cell_type": "code",
   "execution_count": null,
   "id": "8564b618-197f-4d65-a649-b8f558eeb891",
   "metadata": {},
   "outputs": [],
   "source": []
  }
 ],
 "metadata": {
  "kernelspec": {
   "display_name": "Python 3",
   "language": "python",
   "name": "python3"
  },
  "language_info": {
   "codemirror_mode": {
    "name": "ipython",
    "version": 3
   },
   "file_extension": ".py",
   "mimetype": "text/x-python",
   "name": "python",
   "nbconvert_exporter": "python",
   "pygments_lexer": "ipython3",
   "version": "3.8.5"
  }
 },
 "nbformat": 4,
 "nbformat_minor": 5
}
